{
 "cells": [
  {
   "cell_type": "code",
   "execution_count": null,
   "metadata": {},
   "outputs": [],
   "source": [
    "#| hide\n",
    "import matplotlib.pyplot as plt"
   ]
  },
  {
   "cell_type": "markdown",
   "metadata": {},
   "source": [
    "# OOD Detection \n",
    "\n",
    "> A library to detect out of distribution (OOD) data point using the feature embeddings and it's corresponding label"
   ]
  },
  {
   "cell_type": "markdown",
   "metadata": {},
   "source": [
    "This library is used for OOD Detection where a model encounters new classes at test time that were not seen during training. The goal is to detect that such inputs do not belong to any of the training classes."
   ]
  },
  {
   "cell_type": "markdown",
   "metadata": {},
   "source": [
    "![CI](https://github.com/yashwiai/ood_detection/workflows/CI/badge.svg) [![PyPI](https://img.shields.io/pypi/v/ood_detection?color=blue&label=pypi%20version)](https://pypi.org/project/ood_detection/#description) [![Conda (channel only)](https://img.shields.io/conda/vn/yashkhandelwal/ood_detection?color=seagreen&label=conda%20version)](https://anaconda.org/yashkhandelwal/ood_detection)"
   ]
  },
  {
   "cell_type": "markdown",
   "metadata": {},
   "source": [
    "## Install"
   ]
  },
  {
   "cell_type": "markdown",
   "metadata": {},
   "source": [
    "```sh\n",
    "pip install ood_detection\n",
    "```\n",
    "or\n",
    "```sh\n",
    "conda install -c yashkhandelwal ood_detection\n",
    "```"
   ]
  },
  {
   "cell_type": "markdown",
   "metadata": {},
   "source": [
    "## Example Usage"
   ]
  },
  {
   "cell_type": "code",
   "execution_count": null,
   "metadata": {},
   "outputs": [],
   "source": [
    "import numpy as np\n",
    "from sklearn.datasets import make_blobs\n",
    "from ood_detection.core import *"
   ]
  },
  {
   "cell_type": "code",
   "execution_count": null,
   "metadata": {},
   "outputs": [],
   "source": [
    "# example dataset\n",
    "n_samples = 1000\n",
    "n_centers = 10\n",
    "n_features = 1024\n",
    "\n",
    "x, y = make_blobs(n_samples=n_samples, n_features=n_features, centers=n_centers, random_state=0)"
   ]
  },
  {
   "cell_type": "code",
   "execution_count": null,
   "metadata": {},
   "outputs": [],
   "source": [
    "# using the last 5 cluster as the test and rest as train\n",
    "train_embedding = x[np.where(y < (n_centers - 5))]\n",
    "train_labels = y[np.where(y < (n_centers - 5))]\n",
    "\n",
    "test_embedding = x[np.where(y >= (n_centers - 5))]\n",
    "test_labels = y[np.where(y >= (n_centers - 5))]"
   ]
  },
  {
   "cell_type": "code",
   "execution_count": null,
   "metadata": {},
   "outputs": [
    {
     "name": "stdout",
     "output_type": "stream",
     "text": [
      "Computing RMD using the computed mean and covariance\n"
     ]
    },
    {
     "name": "stderr",
     "output_type": "stream",
     "text": [
      "100%|█████████████████████████████████████████████████████████████████████████████████████████████████████████████████████████████████████| 500/500 [00:04<00:00, 108.80it/s]\n"
     ]
    },
    {
     "name": "stdout",
     "output_type": "stream",
     "text": [
      "Computing RMD using the background mean and covariance\n"
     ]
    },
    {
     "name": "stderr",
     "output_type": "stream",
     "text": [
      "100%|█████████████████████████████████████████████████████████████████████████████████████████████████████████████████████████████████████| 500/500 [00:00<00:00, 546.08it/s]\n"
     ]
    },
    {
     "name": "stdout",
     "output_type": "stream",
     "text": [
      "Computing RMD using the computed mean and covariance\n"
     ]
    },
    {
     "name": "stderr",
     "output_type": "stream",
     "text": [
      "100%|█████████████████████████████████████████████████████████████████████████████████████████████████████████████████████████████████████| 500/500 [00:04<00:00, 106.65it/s]\n"
     ]
    },
    {
     "name": "stdout",
     "output_type": "stream",
     "text": [
      "Computing RMD using the background mean and covariance\n"
     ]
    },
    {
     "name": "stderr",
     "output_type": "stream",
     "text": [
      "100%|█████████████████████████████████████████████████████████████████████████████████████████████████████████████████████████████████████| 500/500 [00:00<00:00, 502.71it/s]\n"
     ]
    }
   ],
   "source": [
    "#| output: false\n",
    "ood = OODMetric(train_embedding, train_labels)\n",
    "\n",
    "in_distribution_rmd = ood.compute_rmd(train_embedding)\n",
    "ood_rmd = ood.compute_rmd(test_embedding)"
   ]
  },
  {
   "cell_type": "code",
   "execution_count": null,
   "metadata": {},
   "outputs": [
    {
     "data": {
      "image/png": "[encoded data removed]",
      "text/plain": [
       "<Figure size 640x480 with 1 Axes>"
      ]
     },
     "metadata": {},
     "output_type": "display_data"
    }
   ],
   "source": [
    "plt.hist([in_distribution_rmd, ood_rmd], label=[\"In Distribution\", \"OOD\"])\n",
    "plt.legend()\n",
    "plt.show()"
   ]
  },
  {
   "cell_type": "markdown",
   "metadata": {},
   "source": [
    "## Built using NBDev"
   ]
  },
  {
   "cell_type": "markdown",
   "metadata": {},
   "source": [
    "This OOD Detection library was built in a jupyter notebook with proper documentation and test cases. These test cases are verified before they are published to Github Pages, PyPi, Conda etc.\n",
    "\n",
    "I've written down a [NBDev Tutorial](https://yashwiai.github.io/ood_detection/tutorial.html) explaining the thought process of Jeremy Howard and folks at FastAI behind building it. The tutorial covers about how to get started, important functions and description of those I used with the issues I faced while exploring the tool for the first time."
   ]
  },
  {
   "cell_type": "markdown",
   "metadata": {},
   "source": [
    "## Acknowledgements\n",
    "\n",
    "Special thanks to **[Yugam Tiwari](https://www.linkedin.com/in/tiwari-yugam)** for explaining the code he has written for the OODMetric and helping me packaging in the library.\n",
    "\n",
    "Thanks to **[Soma Dhavala](https://in.linkedin.com/in/somasdhavala)** for coming up with the idea to prepare NBDev Tutorial and helping with the initial reading and exploration material."
   ]
  },
  {
   "cell_type": "code",
   "execution_count": null,
   "metadata": {},
   "outputs": [],
   "source": [
    "#| hide\n",
    "import nbdev; nbdev.nbdev_export()"
   ]
  },
  {
   "cell_type": "code",
   "execution_count": null,
   "metadata": {},
   "outputs": [],
   "source": []
  }
 ],
 "metadata": {
  "kernelspec": {
   "display_name": "Python 3 (ipykernel)",
   "language": "python",
   "name": "python3"
  }
 },
 "nbformat": 4,
 "nbformat_minor": 4
}
