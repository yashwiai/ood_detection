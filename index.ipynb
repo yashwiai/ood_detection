{
 "cells": [
  {
   "cell_type": "markdown",
   "metadata": {},
   "source": [
    "# OOD Detection \n",
    "\n",
    "> A library to detect out of distribution (OOD) data point using the feature embeddings and it's corresponding label"
   ]
  },
  {
   "cell_type": "markdown",
   "metadata": {},
   "source": [
    "This library is used for OOD Detection where a model encounters new classes at test time that were not seen during training. The goal is to detect that such inputs do not belong to any of the training classes."
   ]
  },
  {
   "cell_type": "markdown",
   "metadata": {},
   "source": [
    "## Install"
   ]
  },
  {
   "cell_type": "markdown",
   "metadata": {},
   "source": [
    "```sh\n",
    "pip install ood_detection\n",
    "```"
   ]
  },
  {
   "cell_type": "markdown",
   "metadata": {},
   "source": [
    "## Example Usage"
   ]
  },
  {
   "cell_type": "code",
   "execution_count": null,
   "metadata": {},
   "outputs": [],
   "source": [
    "import numpy as np\n",
    "from ood_detection.core import OODMetric # imports OODMetric class and other utility functions"
   ]
  },
  {
   "cell_type": "code",
   "execution_count": null,
   "metadata": {},
   "outputs": [],
   "source": [
    "train_embedding = np.random.standard_normal((32, 2048))\n",
    "train_labels = np.random.randint(low=0, high=5, size=(32,))"
   ]
  },
  {
   "cell_type": "code",
   "execution_count": null,
   "metadata": {},
   "outputs": [],
   "source": [
    "ood = OODMetric(train_embedding, train_labels)"
   ]
  },
  {
   "cell_type": "code",
   "execution_count": null,
   "metadata": {},
   "outputs": [
    {
     "name": "stdout",
     "output_type": "stream",
     "text": [
      "[ 1.16065497e+13 -1.37269901e+13  3.54920865e+12  4.75570475e+12\n",
      " -4.90615930e+12 -2.63622848e+12 -5.22489520e+11 -7.67105637e+12\n",
      "  1.30991140e+12 -5.38689280e+12  2.71026479e+12 -4.07842659e+13\n",
      " -1.01482832e+13 -2.18136787e+13 -6.53841964e+12 -1.70525347e+13\n",
      "  1.06493867e+13 -2.04729993e+13  4.68809372e+12 -6.11747086e+12\n",
      "  1.09862330e+13  1.03001857e+13 -2.91312276e+13 -9.26086735e+12\n",
      "  7.23079505e+12  7.26673743e+12 -4.73734980e+13  3.17798849e+12\n",
      "  1.99687662e+13  2.99860166e+12  9.86244208e+11  8.76676896e+12]\n"
     ]
    }
   ],
   "source": [
    "test_embedding = np.random.standard_normal((32, 2048)) # test embedding from same distribution\n",
    "scores = ood.compute_rmd(test_embedding) # compute relative mahalanobis distance\n",
    "print(scores)"
   ]
  },
  {
   "cell_type": "markdown",
   "metadata": {},
   "source": [
    "## Built using NBDev"
   ]
  },
  {
   "cell_type": "markdown",
   "metadata": {},
   "source": [
    "This OOD Detection library was built in a jupyter notebook with proper documentation and test cases. These test cases are verified before they are published to Github Pages, PyPi, Conda etc.\n",
    "\n",
    "I've written down a [NBDev Tutorial](https://yashwiai.github.io/ood_detection/tutorial.html) explaining the thought process of Jeremy Howard and folks at FastAI behind building it. The tutorial covers about what it can do and how it is an amazing tool with support for building softwares following the best coding principles."
   ]
  },
  {
   "cell_type": "markdown",
   "metadata": {},
   "source": [
    "## Acknowledgements\n",
    "\n",
    "Special thanks to **[Yugam Tiwari](https://www.linkedin.com/in/tiwari-yugam)** for explaining the code he has written for the OODMetric and helping me packaging in the library.\n",
    "\n",
    "Thanks to **[Soma Dhavala](https://in.linkedin.com/in/somasdhavala)** for coming up with the idea to prepare NBDev Tutorial and helping with the initial reading and exploration material."
   ]
  },
  {
   "cell_type": "code",
   "execution_count": null,
   "metadata": {},
   "outputs": [],
   "source": []
  }
 ],
 "metadata": {
  "kernelspec": {
   "display_name": "Python 3 (ipykernel)",
   "language": "python",
   "name": "python3"
  }
 },
 "nbformat": 4,
 "nbformat_minor": 4
}
