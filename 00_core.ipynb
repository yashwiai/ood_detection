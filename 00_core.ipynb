{
 "cells": [
  {
   "cell_type": "markdown",
   "metadata": {},
   "source": [
    "# Documentation\n",
    "\n",
    "> Documentation of the functions used in building the OOD Metric Class"
   ]
  },
  {
   "cell_type": "markdown",
   "metadata": {},
   "source": [
    "Visual overview of how the pipeline looks like. \n",
    "\n",
    "```{mermaid}\n",
    "flowchart LR\n",
    "  A[Feature\\nEmbeddings] --> C{OOD Detection}\n",
    "  B[In Distribution\\nLabels] --> C\n",
    "  C --> F[Uncertainty Score]\n",
    "  F --> D[Out of Distribtuion]\n",
    "  F --> E[In Distribtuion]\n",
    "```"
   ]
  },
  {
   "cell_type": "code",
   "execution_count": null,
   "metadata": {},
   "outputs": [],
   "source": [
    "#| default_exp core"
   ]
  },
  {
   "cell_type": "code",
   "execution_count": null,
   "metadata": {},
   "outputs": [],
   "source": [
    "#| hide\n",
    "import matplotlib.pyplot as plt\n",
    "\n",
    "from fastcore.test import *\n",
    "from sklearn.datasets import make_blobs\n",
    "from sklearn.manifold import TSNE"
   ]
  },
  {
   "cell_type": "code",
   "execution_count": null,
   "metadata": {},
   "outputs": [],
   "source": [
    "#| export\n",
    "import numpy as np\n",
    "\n",
    "from fastcore.utils import *\n",
    "from tqdm import tqdm"
   ]
  },
  {
   "cell_type": "markdown",
   "metadata": {},
   "source": [
    "## Utility Functions"
   ]
  },
  {
   "cell_type": "code",
   "execution_count": null,
   "metadata": {},
   "outputs": [],
   "source": [
    "#| export\n",
    "def compute_mean_and_covariance(\n",
    "    embdedding: np.ndarray, # (n_sample, n_dim) n_sample - sample size of training set, n_dim - dimension of the embedding\n",
    "    labels: np.ndarray, # (n_sample, ) n_sample - sample size of training set\n",
    ") -> Tuple[np.ndarray, np.ndarray]: # Mean of dimension (n_dim, ) and Covariance matrix of dimension(n_dim, n_dim)\n",
    "    \"\"\"Computes class-specific means and a shared covariance matrix.\n",
    "    \"\"\"\n",
    "    \n",
    "    n_dim = embdedding.shape[1]\n",
    "    class_ids = np.unique(labels)\n",
    "    \n",
    "    covariance = np.zeros((n_dim, n_dim)) \n",
    "    means = []\n",
    "\n",
    "    def f(covariance, class_id):\n",
    "        mask = np.expand_dims(labels == class_id, axis=-1) # to compute mean/variance use only those which belong to current class_id\n",
    "        data = embdedding * mask\n",
    "        mean = np.sum(data, axis=0) / np.sum(mask)\n",
    "        diff = (data - mean) * mask\n",
    "        covariance += np.matmul(diff.T, diff)\n",
    "        return covariance, mean\n",
    "\n",
    "    for class_id in class_ids:\n",
    "        covariance, mean = f(covariance, class_id)\n",
    "        means.append(mean)\n",
    "        \n",
    "    covariance = covariance / len(labels)\n",
    "    return np.stack(means), covariance"
   ]
  },
  {
   "cell_type": "code",
   "execution_count": null,
   "metadata": {},
   "outputs": [],
   "source": [
    "#| export\n",
    "def compute_mahalanobis_distance(\n",
    "    embdedding: np.ndarray, # Embdedding of dimension (n_sample, n_dim)\n",
    "    means: np.ndarray, # A matrix of size (num_classes, n_dim), where the ith row corresponds to the mean of the fitted Gaussian distribution for the i-th class.\n",
    "    covariance: np.ndarray # The shared covariance matrix of the size (n_dim, n_dim)\n",
    ") -> np.ndarray: # A matrix of size (n_sample, n_class) where the (i, j) element corresponds to the Mahalanobis distance between i-th sample to the j-th class Gaussian.\n",
    "    \"\"\"Computes Mahalanobis distance between the input and the fitted Guassians. The Mahalanobis distance (Mahalanobis, 1936) is defined as\n",
    "\n",
    "    $$distance(x, mu, sigma) = sqrt((x-\\mu)^T \\sigma^{-1} (x-\\mu))$$\n",
    "\n",
    "    where `x` is a vector, `mu` is the mean vector for a Gaussian, and `sigma` is\n",
    "    the covariance matrix. We compute the distance for all examples in `embdedding`,\n",
    "    and across all classes in `means`.\n",
    "\n",
    "    Note that this function technically computes the squared Mahalanobis distance\n",
    "    \"\"\"\n",
    "    \n",
    "    covariance_inv = np.linalg.pinv(covariance)\n",
    "    maha_distances = []\n",
    "\n",
    "    def maha_dist(x, mean):\n",
    "        # NOTE: This computes the squared Mahalanobis distance.\n",
    "        diff = x - mean\n",
    "        return np.einsum(\"i, ij, j->\", diff, covariance_inv, diff)\n",
    "\n",
    "    for x in tqdm(embdedding):\n",
    "        arr = []\n",
    "        for mean in means:\n",
    "            arr.append(maha_dist(x, mean))\n",
    "        arr = np.stack(arr)\n",
    "        maha_distances.append(arr)\n",
    "\n",
    "    return np.stack(maha_distances)"
   ]
  },
  {
   "cell_type": "markdown",
   "metadata": {},
   "source": [
    "## OOD Metric Computation Class"
   ]
  },
  {
   "cell_type": "code",
   "execution_count": null,
   "metadata": {},
   "outputs": [],
   "source": [
    "#| export\n",
    "class OODMetric:\n",
    "    \"\"\"OOD Metric Class that calculates the OOD scores for a batch of input embeddings.\n",
    "    Initialises the class by fitting the class conditional gaussian using training data\n",
    "    and the class independent gaussian using training data.\n",
    "    \"\"\"\n",
    "\n",
    "    def __init__(self,\n",
    "                 train_embdedding: np.ndarray, # An array of size (n_sample, n_dim) where n_sample is the sample size of training set, n_dim is the dimension of the embedding.\n",
    "                 train_labels: np.ndarray # An array of size (n_train_sample, )\n",
    "                ):\n",
    "        self.means, self.covariance = compute_mean_and_covariance(train_embdedding, train_labels)\n",
    "        self.means_bg, self.covariance_bg = compute_mean_and_covariance(train_embdedding, np.zeros_like(train_labels))"
   ]
  },
  {
   "cell_type": "code",
   "execution_count": null,
   "metadata": {},
   "outputs": [],
   "source": [
    "#| export\n",
    "@patch\n",
    "def compute_rmd(\n",
    "    self:OODMetric,\n",
    "    embdedding: np.ndarray # An array of size (n_sample, n_dim), where n_sample is the sample size of the test set, and n_dim is the size of the embeddings.\n",
    ") -> np.ndarray:  # An array of size (n_sample, ) where the ith element corresponds to the ood score of the ith data point.\n",
    "    \"\"\"This function computes the OOD score using the mahalanobis distance\n",
    "    \"\"\"\n",
    "    print(\"Computing RMD using the computed mean and covariance\")\n",
    "    distances = compute_mahalanobis_distance(embdedding, self.means, self.covariance)\n",
    "    print(\"Computing RMD using the background mean and covariance\")\n",
    "    distances_bg = compute_mahalanobis_distance(embdedding, self.means_bg, self.covariance_bg)\n",
    "\n",
    "    rmaha_distances = np.min(distances, axis=-1) - distances_bg[:, 0]\n",
    "    return rmaha_distances"
   ]
  },
  {
   "cell_type": "markdown",
   "metadata": {},
   "source": [
    "## Example"
   ]
  },
  {
   "cell_type": "markdown",
   "metadata": {},
   "source": [
    "Here is an example where we generate 500 samples having a 2048 dimensional embedding belonging to 5 clusters. Using the samples from cluster number 5 as test embeddings and rest used as train embeddings"
   ]
  },
  {
   "cell_type": "code",
   "execution_count": null,
   "metadata": {},
   "outputs": [],
   "source": [
    "n_samples = 500\n",
    "n_centers = 5\n",
    "n_features = 2048\n",
    "\n",
    "x, y = make_blobs(n_samples=n_samples, n_features=n_features, centers=n_centers, random_state=0)"
   ]
  },
  {
   "cell_type": "code",
   "execution_count": null,
   "metadata": {},
   "outputs": [],
   "source": [
    "train_embedding = x[np.where(y != (n_centers - 1))]\n",
    "train_labels = y[np.where(y != (n_centers - 1))]\n",
    "\n",
    "test_embedding = x[np.where(y == (n_centers - 1))]\n",
    "test_labels = y[np.where(y == (n_centers - 1))]"
   ]
  },
  {
   "cell_type": "code",
   "execution_count": null,
   "metadata": {},
   "outputs": [
    {
     "name": "stderr",
     "output_type": "stream",
     "text": [
      "/opt/miniconda3/lib/python3.9/site-packages/sklearn/manifold/_t_sne.py:800: FutureWarning: The default initialization in TSNE will change from 'random' to 'pca' in 1.2.\n",
      "  warnings.warn(\n",
      "/opt/miniconda3/lib/python3.9/site-packages/sklearn/manifold/_t_sne.py:810: FutureWarning: The default learning rate in TSNE will change from 200.0 to 'auto' in 1.2.\n",
      "  warnings.warn(\n"
     ]
    },
    {
     "data": {
      "text/plain": [
       "<matplotlib.collections.PathCollection>"
      ]
     },
     "execution_count": null,
     "metadata": {},
     "output_type": "execute_result"
    },
    {
     "data": {
      "image/png": "[encoded data removed]",
      "text/plain": [
       "<Figure size 640x480 with 1 Axes>"
      ]
     },
     "metadata": {},
     "output_type": "display_data"
    }
   ],
   "source": [
    "#| filter_stream warnings.warn FutureWarning\n",
    "tsne = TSNE(n_components=2).fit_transform(x)\n",
    "\n",
    "x_train_tsne = tsne[np.where(y != (n_centers - 1))]\n",
    "x_test_tsne = tsne[np.where(y == (n_centers - 1))]\n",
    "\n",
    "plt.scatter(x_train_tsne[:, 0], x_train_tsne[:, 1], marker=\"o\", c=train_labels)\n",
    "plt.scatter(x_test_tsne[:, 0], x_test_tsne[:, 1], marker=\"+\", c=test_labels)"
   ]
  },
  {
   "cell_type": "code",
   "execution_count": null,
   "metadata": {},
   "outputs": [],
   "source": [
    "test_eq(type(train_embedding), np.ndarray) # check that embeddings are a numpy array\n",
    "test_eq(type(train_labels), np.ndarray) # check that labels are numpy array\n",
    "test_eq(train_labels.dtype, int) # check that labels are integers only\n",
    "test_eq(train_labels.ndim, 1) # check that labels is one dimensional\n",
    "test_eq(train_embedding.shape[0], train_labels.shape[0]) # check n_samples are same"
   ]
  },
  {
   "cell_type": "code",
   "execution_count": null,
   "metadata": {},
   "outputs": [],
   "source": [
    "ood = OODMetric(train_embedding, train_labels)"
   ]
  },
  {
   "cell_type": "code",
   "execution_count": null,
   "metadata": {},
   "outputs": [],
   "source": [
    "test_eq(ood.means.shape[0], len(np.unique(train_labels))) # for each unique class, we should get one mean embedding\n",
    "test_eq(ood.means.shape[1], train_embedding.shape[1]) # size of mean vector should be the same of the size of embedding\n",
    "\n",
    "test_eq(ood.covariance.shape[0], train_embedding.shape[1]) # covariance matrix should be of size n_dim, n_dim\n",
    "test_eq(ood.covariance.shape[1], train_embedding.shape[1])\n",
    "\n",
    "test_eq(ood.means_bg.shape[0], 1)\n",
    "test_eq(ood.means_bg.shape[1], train_embedding.shape[1])\n",
    "\n",
    "test_eq(ood.covariance_bg.shape[0], train_embedding.shape[1])\n",
    "test_eq(ood.covariance_bg.shape[1], train_embedding.shape[1])"
   ]
  },
  {
   "cell_type": "code",
   "execution_count": null,
   "metadata": {},
   "outputs": [
    {
     "name": "stdout",
     "output_type": "stream",
     "text": [
      "Computing RMD using the computed mean and covariance\n"
     ]
    },
    {
     "name": "stderr",
     "output_type": "stream",
     "text": [
      "100%|██████████████████████████████████████████████████████████████████████████████████████████████████████████████████████████████████████| 400/400 [00:12<00:00, 33.17it/s]\n"
     ]
    },
    {
     "name": "stdout",
     "output_type": "stream",
     "text": [
      "Computing RMD using the background mean and covariance\n"
     ]
    },
    {
     "name": "stderr",
     "output_type": "stream",
     "text": [
      "100%|█████████████████████████████████████████████████████████████████████████████████████████████████████████████████████████████████████| 400/400 [00:02<00:00, 135.38it/s]\n"
     ]
    }
   ],
   "source": [
    "#| output: false\n",
    "# testing on the train embedding itself\n",
    "in_distribution_rmd = ood.compute_rmd(train_embedding)"
   ]
  },
  {
   "cell_type": "code",
   "execution_count": null,
   "metadata": {},
   "outputs": [
    {
     "name": "stdout",
     "output_type": "stream",
     "text": [
      "Computing RMD using the computed mean and covariance\n"
     ]
    },
    {
     "name": "stderr",
     "output_type": "stream",
     "text": [
      "100%|██████████████████████████████████████████████████████████████████████████████████████████████████████████████████████████████████████| 100/100 [00:03<00:00, 27.89it/s]\n"
     ]
    },
    {
     "name": "stdout",
     "output_type": "stream",
     "text": [
      "Computing RMD using the background mean and covariance\n"
     ]
    },
    {
     "name": "stderr",
     "output_type": "stream",
     "text": [
      "100%|██████████████████████████████████████████████████████████████████████████████████████████████████████████████████████████████████████| 100/100 [00:01<00:00, 98.91it/s]\n"
     ]
    }
   ],
   "source": [
    "#| output: false\n",
    "ood_rmd = ood.compute_rmd(test_embedding)"
   ]
  },
  {
   "cell_type": "markdown",
   "metadata": {},
   "source": [
    "By looking at the scores, we can get an idea of setting the threshold for classifying any datapoint as out of distribution. Below histogram shows a clear idea of what OOD Relative Mahalanobis distance look like."
   ]
  },
  {
   "cell_type": "code",
   "execution_count": null,
   "metadata": {},
   "outputs": [
    {
     "data": {
      "image/png": "[encoded data removed]",
      "text/plain": [
       "<Figure size 640x480 with 1 Axes>"
      ]
     },
     "metadata": {},
     "output_type": "display_data"
    }
   ],
   "source": [
    "plt.hist([in_distribution_rmd, ood_rmd], bins=10, density=True, label=[\"In Distribution\", \"OOD\"])\n",
    "plt.legend()\n",
    "plt.show()"
   ]
  },
  {
   "cell_type": "code",
   "execution_count": null,
   "metadata": {},
   "outputs": [],
   "source": [
    "test_eq(ood_rmd.shape[0], test_embedding.shape[0])\n",
    "test_eq(ood_rmd.ndim, 1)"
   ]
  },
  {
   "cell_type": "code",
   "execution_count": null,
   "metadata": {},
   "outputs": [],
   "source": [
    "#| hide\n",
    "import nbdev; nbdev.nbdev_export()"
   ]
  },
  {
   "cell_type": "code",
   "execution_count": null,
   "metadata": {},
   "outputs": [],
   "source": []
  }
 ],
 "metadata": {
  "kernelspec": {
   "display_name": "Python 3 (ipykernel)",
   "language": "python",
   "name": "python3"
  }
 },
 "nbformat": 4,
 "nbformat_minor": 4
}
